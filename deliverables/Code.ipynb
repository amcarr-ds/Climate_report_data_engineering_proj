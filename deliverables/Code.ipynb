{
 "cells": [
  {
   "cell_type": "code",
   "execution_count": 1,
   "metadata": {},
   "outputs": [],
   "source": [
    "# Connecting to database and create a Jupyter Notebook in VS Code\n",
    "import pymysql\n",
    "import numpy as np\n",
    "import pandas as pd\n",
    "import pymysql as mysql\n",
    "import matplotlib.pyplot as plt\n",
    "\n",
    "userName = 'root'\n",
    "userPass = 'Cli406615!'"
   ]
  },
  {
   "cell_type": "code",
   "execution_count": 3,
   "metadata": {},
   "outputs": [],
   "source": [
    "# Create a code block to connect to the climate_change_related database\n",
    "conn = pymysql.connect(host='localhost', port=int(3306), user=userName, passwd=userPass, db='climate_change_related')"
   ]
  },
  {
   "cell_type": "code",
   "execution_count": 4,
   "metadata": {},
   "outputs": [
    {
     "data": {
      "text/html": [
       "<div>\n",
       "<style scoped>\n",
       "    .dataframe tbody tr th:only-of-type {\n",
       "        vertical-align: middle;\n",
       "    }\n",
       "\n",
       "    .dataframe tbody tr th {\n",
       "        vertical-align: top;\n",
       "    }\n",
       "\n",
       "    .dataframe thead th {\n",
       "        text-align: right;\n",
       "    }\n",
       "</style>\n",
       "<table border=\"1\" class=\"dataframe\">\n",
       "  <thead>\n",
       "    <tr style=\"text-align: right;\">\n",
       "      <th></th>\n",
       "      <th>Tables_in_climate_change_related</th>\n",
       "    </tr>\n",
       "  </thead>\n",
       "  <tbody>\n",
       "    <tr>\n",
       "      <th>0</th>\n",
       "      <td>emission_by_country</td>\n",
       "    </tr>\n",
       "    <tr>\n",
       "      <th>1</th>\n",
       "      <td>temperature_change</td>\n",
       "    </tr>\n",
       "    <tr>\n",
       "      <th>2</th>\n",
       "      <td>world_population</td>\n",
       "    </tr>\n",
       "  </tbody>\n",
       "</table>\n",
       "</div>"
      ],
      "text/plain": [
       "  Tables_in_climate_change_related\n",
       "0              emission_by_country\n",
       "1               temperature_change\n",
       "2                 world_population"
      ]
     },
     "execution_count": 4,
     "metadata": {},
     "output_type": "execute_result"
    }
   ],
   "source": [
    "# Query the climate_change_related database for all the table names:\n",
    "df = pd.read_sql_query(\"Show Tables\", conn)\n",
    "df"
   ]
  },
  {
   "cell_type": "code",
   "execution_count": 23,
   "metadata": {},
   "outputs": [
    {
     "name": "stdout",
     "output_type": "stream",
     "text": [
      "                                        Area  1970_Avg_temp_chg\n",
      "0                                Afghanistan           0.575103\n",
      "1                                    Albania           0.582135\n",
      "2                                    Algeria           0.463803\n",
      "3                                    Andorra           0.628035\n",
      "4                                     Angola           0.150088\n",
      "..                                       ...                ...\n",
      "201        Low Income Food Deficit Countries           0.144994\n",
      "202  Net Food Importing Developing Countries           0.141644\n",
      "203                        Annex I countries           0.244315\n",
      "204                    Non-Annex I countries           0.134174\n",
      "205                                     OECD           0.196932\n",
      "\n",
      "[206 rows x 2 columns]\n"
     ]
    }
   ],
   "source": [
    "# Aggregate the average temperature by every decade (1960-1970)\n",
    "sql1 = \"SELECT Area, ((AVG(Y1961)+AVG(Y1962)+AVG(Y1963)+AVG(Y1964)+AVG(Y1965)+AVG(Y1966)+AVG(Y1967)+AVG(Y1968)+AVG(Y1969)+AVG(Y1970))/10)\\\n",
    "AS 1970_Avg_temp_chg FROM climate_change_related.temperature_change GROUP BY Area;\"\n",
    "df1 = pd.read_sql_query(sql1, conn)\n",
    "print(df1)"
   ]
  },
  {
   "cell_type": "code",
   "execution_count": 25,
   "metadata": {},
   "outputs": [
    {
     "name": "stdout",
     "output_type": "stream",
     "text": [
      "                  Area  1970 Population  1970_Avg_temp_chg\n",
      "0          Afghanistan         10752971           0.575103\n",
      "1              Albania          2324731           0.582135\n",
      "2              Algeria         13795915           0.463803\n",
      "3       American Samoa            27075                NaN\n",
      "4              Andorra            19860           0.628035\n",
      "..                 ...              ...                ...\n",
      "229  Wallis and Futuna             9377                NaN\n",
      "230     Western Sahara            76371           0.636109\n",
      "231              Yemen          6843607                NaN\n",
      "232             Zambia          4281671           0.222316\n",
      "233           Zimbabwe          5202918           0.359629\n",
      "\n",
      "[234 rows x 3 columns]\n"
     ]
    }
   ],
   "source": [
    "# Joining 1970 average temp change with population\n",
    "sql2 = \"SELECT p.`Country/Territory` AS Area, p.`1970 Population`, a.1970_Avg_temp_chg FROM climate_change_related.world_population p LEFT OUTER JOIN ( SELECT Area, ((AVG(Y1961)+AVG(Y1962)+AVG(Y1963)+AVG(Y1964)+AVG(Y1965)+AVG(Y1966)+AVG(Y1967)+AVG(Y1968)+AVG(Y1969)+AVG(Y1970))/10) AS 1970_Avg_temp_chg FROM climate_change_related.temperature_change GROUP BY Area) AS a ON p.`Country/Territory` = a.Area\"\n",
    "df2 = pd.read_sql_query(sql2, conn)\n",
    "print(df2)"
   ]
  },
  {
   "cell_type": "code",
   "execution_count": 24,
   "metadata": {},
   "outputs": [
    {
     "name": "stdout",
     "output_type": "stream",
     "text": [
      "           Country ISO 3166-1 alpha-3  Year  Total      Coal       Oil  \\\n",
      "0      Afghanistan                AFG  1962      1  0.296784  0.362736   \n",
      "1      Afghanistan                AFG  1963      1  0.263808  0.392048   \n",
      "2      Afghanistan                AFG  1964      1  0.300448  0.476320   \n",
      "3      Afghanistan                AFG  1965      1  0.381056  0.542272   \n",
      "4      Afghanistan                AFG  1966      1  0.428688  0.575248   \n",
      "...            ...                ...   ...    ...       ...       ...   \n",
      "11110     Cameroon                CMR  2008      5         0  4.330088   \n",
      "11111     Cameroon                CMR  2009      7         0  5.580851   \n",
      "11112     Cameroon                CMR  2010      7         0  5.682864   \n",
      "11113     Cameroon                CMR  2011      7         0  5.657216   \n",
      "11114     Cameroon                CMR  2012      8         0  5.158912   \n",
      "\n",
      "            Gas    Cement   Flaring Other Per Capita  \n",
      "0             0  0.029074         0         0.076775  \n",
      "1             0  0.050880         0         0.077176  \n",
      "2             0  0.061783         0         0.089632  \n",
      "3             0  0.083589         0         0.105269  \n",
      "4             0  0.087223         0         0.111535  \n",
      "...         ...       ...       ...   ...        ...  \n",
      "11110  0.711293  0.384635         0         0.288970  \n",
      "11111  0.589578  0.423621         0         0.341320  \n",
      "11112  0.593568  0.385615         0         0.335146  \n",
      "11113  0.425024  0.438303         0         0.318871  \n",
      "11114  0.509296  0.487499  1.447675         0.361503  \n",
      "\n",
      "[11115 rows x 11 columns]\n"
     ]
    }
   ],
   "source": [
    "# Filter out unncessary years when there is no data in the emission_by_country\n",
    "sql3 = \"SELECT * FROM climate_change_related.emission_by_country WHERE Total != 0;\"\n",
    "df3 = pd.read_sql_query(sql3, conn)\n",
    "print(df3)"
   ]
  }
 ],
 "metadata": {
  "kernelspec": {
   "display_name": "base",
   "language": "python",
   "name": "python3"
  },
  "language_info": {
   "codemirror_mode": {
    "name": "ipython",
    "version": 3
   },
   "file_extension": ".py",
   "mimetype": "text/x-python",
   "name": "python",
   "nbconvert_exporter": "python",
   "pygments_lexer": "ipython3",
   "version": "3.8.8"
  },
  "orig_nbformat": 4,
  "vscode": {
   "interpreter": {
    "hash": "860a47092ec015ded59f9615317093324c47bb9bef5e051bd2113eeaa89c3b50"
   }
  }
 },
 "nbformat": 4,
 "nbformat_minor": 2
}
