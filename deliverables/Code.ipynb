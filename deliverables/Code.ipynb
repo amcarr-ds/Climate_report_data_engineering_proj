{
 "cells": [
  {
   "cell_type": "code",
   "execution_count": null,
   "metadata": {},
   "outputs": [],
   "source": [
    "# Step 1: Connecting to database and create a Jupyter Notebook in VS Code\n",
    "import pymysql\n",
    "import numpy as np\n",
    "import pandas as pd\n",
    "import pymysql as mysql\n",
    "import matplotlib.pyplot as plt\n",
    "\n",
    "userName = 'root'\n",
    "userPass = 'Cli406615!'"
   ]
  }
 ],
 "metadata": {
  "kernelspec": {
   "display_name": "base",
   "language": "python",
   "name": "python3"
  },
  "language_info": {
   "codemirror_mode": {
    "name": "ipython",
    "version": 3
   },
   "file_extension": ".py",
   "mimetype": "text/x-python",
   "name": "python",
   "nbconvert_exporter": "python",
   "pygments_lexer": "ipython3",
   "version": "3.8.8 (default, Apr 13 2021, 15:08:03) [MSC v.1916 64 bit (AMD64)]"
  },
  "orig_nbformat": 4,
  "vscode": {
   "interpreter": {
    "hash": "860a47092ec015ded59f9615317093324c47bb9bef5e051bd2113eeaa89c3b50"
   }
  }
 },
 "nbformat": 4,
 "nbformat_minor": 2
}
