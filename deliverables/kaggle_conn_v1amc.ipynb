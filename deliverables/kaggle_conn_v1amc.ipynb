{
 "cells": [
  {
   "cell_type": "markdown",
   "id": "cb2333ab-9ecd-4323-b60f-1a32f8c866c4",
   "metadata": {},
   "source": [
    "# Add Kaggle API citation:\n",
    "https://www.kaggle.com/docs/api"
   ]
  },
  {
   "cell_type": "code",
   "execution_count": 1,
   "id": "26b795b5-4183-496c-9f85-1f404d6198db",
   "metadata": {},
   "outputs": [],
   "source": [
    "# Load Python libraries for global use\n",
    "import kaggle\n",
    "import zipfile\n",
    "import os"
   ]
  },
  {
   "cell_type": "code",
   "execution_count": 2,
   "id": "f11a67fe-9334-43e9-aded-ca440b4b55ae",
   "metadata": {},
   "outputs": [
    {
     "name": "stdout",
     "output_type": "stream",
     "text": [
      "C:\\Users\\acarr\\Documents\\GitHub\\ads507_data_engineering\n",
      "deliverables\n"
     ]
    }
   ],
   "source": [
    "# Split up-1-level path & current working folder\n",
    "up1_path, curr_folder = os.path.split(os.getcwd())\n",
    "print(up1_path)\n",
    "print(curr_folder)"
   ]
  },
  {
   "cell_type": "markdown",
   "id": "03084874-2691-47da-b302-ef9bd2190c40",
   "metadata": {},
   "source": [
    "# Setup Kaggle API connection citation:\n",
    "https://python.plainenglish.io/how-to-use-the-kaggle-api-in-python-4d4c812c39c7"
   ]
  },
  {
   "cell_type": "code",
   "execution_count": 3,
   "id": "d0cc5ac3-45eb-474a-9fe4-02c2d7481582",
   "metadata": {},
   "outputs": [],
   "source": [
    "# Create Kaggle API authentication instance\n",
    "from kaggle.api.kaggle_api_extended import KaggleApi\n",
    "api = KaggleApi()\n",
    "api.authenticate()"
   ]
  },
  {
   "cell_type": "markdown",
   "id": "b461826c-79d2-4eec-a2d2-0708f7761435",
   "metadata": {},
   "source": [
    "kaggle datasets download -d thedevastator/global-fossil-co2-emissions-by-country-2002-2022"
   ]
  },
  {
   "cell_type": "code",
   "execution_count": 4,
   "id": "7227f1c4-e372-4b5d-a9f9-dbff52a66c38",
   "metadata": {},
   "outputs": [
    {
     "name": "stdout",
     "output_type": "stream",
     "text": [
      "C:\\Users\\acarr\\Documents\\GitHub\\ads507_data_engineering\\data\\Emmissions\n"
     ]
    }
   ],
   "source": [
    "# Assignment data plaement folder\n",
    "emi_place_folder = 'data\\Emmissions'\n",
    "\n",
    "# Join up-1-level path to placement folder\n",
    "emi_place_folder_path = os.path.join(up1_path, emi_place_folder)\n",
    "print(emi_place_folder_path)"
   ]
  },
  {
   "cell_type": "code",
   "execution_count": 5,
   "id": "eb296a9a-534c-48b3-bc9c-4828c9e86e2b",
   "metadata": {},
   "outputs": [],
   "source": [
    "# Assign Kaggle API link details\n",
    "emi_kag_owner = 'thedevastator'\n",
    "emi_kag_dataset = 'global-fossil-co2-emissions-by-country-2002-2022'\n",
    "emi_kag_api_link = emi_kag_owner + '/' + emi_kag_dataset"
   ]
  },
  {
   "cell_type": "code",
   "execution_count": 6,
   "id": "afe67f08-2b2f-42a1-b0a3-6e07c71c3ed5",
   "metadata": {},
   "outputs": [],
   "source": [
    "# Access Kaggle API and download file(s)\n",
    "api.dataset_download_files(emi_kag_api_link, path=emi_place_folder_path)"
   ]
  },
  {
   "cell_type": "code",
   "execution_count": 7,
   "id": "fd47326f-7a9a-40bb-80af-7c5e9525bda9",
   "metadata": {},
   "outputs": [
    {
     "name": "stdout",
     "output_type": "stream",
     "text": [
      "C:\\Users\\acarr\\Documents\\GitHub\\ads507_data_engineering\\data\\Emmissions\\global-fossil-co2-emissions-by-country-2002-2022.zip\n"
     ]
    }
   ],
   "source": [
    "# Unzip downloaded file\n",
    "emi_zip_file = emi_kag_dataset + '.zip'\n",
    "emi_zip_file_path = os.path.join(emi_place_folder_path, emi_zip_file)\n",
    "print(emi_zip_file_path)\n",
    "\n",
    "with zipfile.ZipFile(emi_zip_file_path, 'r') as zipref:\n",
    "    zipref.extractall(emi_place_folder_path)"
   ]
  },
  {
   "cell_type": "markdown",
   "id": "7f3de907-2364-4421-9439-2bfd63e196b8",
   "metadata": {},
   "source": [
    "kaggle datasets download -d sevgisarac/temperature-change"
   ]
  },
  {
   "cell_type": "code",
   "execution_count": 8,
   "id": "fb6c5fdc-0220-49ab-8fce-af1d11713f0a",
   "metadata": {},
   "outputs": [
    {
     "name": "stdout",
     "output_type": "stream",
     "text": [
      "C:\\Users\\acarr\\Documents\\GitHub\\ads507_data_engineering\\data\\Temperature\n"
     ]
    }
   ],
   "source": [
    "# Assignment data plaement folder\n",
    "tmp_place_folder = 'data\\Temperature'\n",
    "\n",
    "# Join up-1-level path to placement folder\n",
    "tmp_place_folder_path = os.path.join(up1_path, tmp_place_folder)\n",
    "print(tmp_place_folder_path)"
   ]
  },
  {
   "cell_type": "code",
   "execution_count": 9,
   "id": "1ec9da24-2d71-4f49-bc31-ccb92af498f8",
   "metadata": {},
   "outputs": [],
   "source": [
    "# Assign Kaggle API link details\n",
    "tmp_kag_owner = 'sevgisarac'\n",
    "tmp_kag_dataset = 'temperature-change'\n",
    "tmp_kag_api_link = tmp_kag_owner + '/' + tmp_kag_dataset"
   ]
  },
  {
   "cell_type": "code",
   "execution_count": 10,
   "id": "218edcbd-985a-4ad4-aa69-5aa674ec33af",
   "metadata": {},
   "outputs": [],
   "source": [
    "# Access Kaggle API and download file(s)\n",
    "api.dataset_download_files(tmp_kag_api_link, path=tmp_place_folder_path)"
   ]
  },
  {
   "cell_type": "code",
   "execution_count": 11,
   "id": "00721170-2066-4f0b-a5d2-8b5f8234ece7",
   "metadata": {},
   "outputs": [
    {
     "name": "stdout",
     "output_type": "stream",
     "text": [
      "C:\\Users\\acarr\\Documents\\GitHub\\ads507_data_engineering\\data\\Temperature\\temperature-change.zip\n"
     ]
    }
   ],
   "source": [
    "# Unzip downloaded file\n",
    "tmp_zip_file = tmp_kag_dataset + '.zip'\n",
    "tmp_zip_file_path = os.path.join(tmp_place_folder_path, tmp_zip_file)\n",
    "print(tmp_zip_file_path)\n",
    "\n",
    "with zipfile.ZipFile(tmp_zip_file_path, 'r') as zipref:\n",
    "    zipref.extractall(tmp_place_folder_path)"
   ]
  },
  {
   "cell_type": "markdown",
   "id": "33a23e5b-0730-4678-8f6d-05fe16d9b77a",
   "metadata": {},
   "source": [
    "kaggle datasets download -d iamsouravbanerjee/world-population-dataset"
   ]
  },
  {
   "cell_type": "code",
   "execution_count": 12,
   "id": "726e243d-fda4-440d-82f9-6a3b4a453de8",
   "metadata": {},
   "outputs": [
    {
     "name": "stdout",
     "output_type": "stream",
     "text": [
      "C:\\Users\\acarr\\Documents\\GitHub\\ads507_data_engineering\\data\\Population\n"
     ]
    }
   ],
   "source": [
    "# Assignment data plaement folder\n",
    "pop_place_folder = 'data\\Population'\n",
    "\n",
    "# Join up-1-level path to placement folder\n",
    "pop_place_folder_path = os.path.join(up1_path, pop_place_folder)\n",
    "print(pop_place_folder_path)"
   ]
  },
  {
   "cell_type": "code",
   "execution_count": 13,
   "id": "2e95153d-6b21-4c75-b294-b353e311c3f2",
   "metadata": {},
   "outputs": [],
   "source": [
    "# Assign Kaggle API link details\n",
    "pop_kag_owner = 'iamsouravbanerjee'\n",
    "pop_kag_dataset = 'world-population-dataset'\n",
    "pop_kag_api_link = pop_kag_owner + '/' + pop_kag_dataset"
   ]
  },
  {
   "cell_type": "code",
   "execution_count": 14,
   "id": "3261c304-f4b4-4140-9fda-eae7ce4effee",
   "metadata": {},
   "outputs": [],
   "source": [
    "# Access Kaggle API and download file(s)\n",
    "api.dataset_download_files(pop_kag_api_link, path=pop_place_folder_path)"
   ]
  },
  {
   "cell_type": "code",
   "execution_count": 15,
   "id": "46afd875-db8a-435a-a589-31246aa61d9b",
   "metadata": {},
   "outputs": [
    {
     "name": "stdout",
     "output_type": "stream",
     "text": [
      "C:\\Users\\acarr\\Documents\\GitHub\\ads507_data_engineering\\data\\Population\\world-population-dataset.zip\n"
     ]
    }
   ],
   "source": [
    "# Unzip downloaded file\n",
    "pop_zip_file = pop_kag_dataset + '.zip'\n",
    "pop_zip_file_path = os.path.join(pop_place_folder_path, pop_zip_file)\n",
    "print(pop_zip_file_path)\n",
    "\n",
    "with zipfile.ZipFile(pop_zip_file_path, 'r') as zipref:\n",
    "    zipref.extractall(pop_place_folder_path)"
   ]
  }
 ],
 "metadata": {
  "kernelspec": {
   "display_name": "Python 3 (ipykernel)",
   "language": "python",
   "name": "python3"
  },
  "language_info": {
   "codemirror_mode": {
    "name": "ipython",
    "version": 3
   },
   "file_extension": ".py",
   "mimetype": "text/x-python",
   "name": "python",
   "nbconvert_exporter": "python",
   "pygments_lexer": "ipython3",
   "version": "3.7.11"
  }
 },
 "nbformat": 4,
 "nbformat_minor": 5
}
