{
 "cells": [
  {
   "cell_type": "markdown",
   "id": "cb2333ab-9ecd-4323-b60f-1a32f8c866c4",
   "metadata": {},
   "source": [
    "# Add Kaggle API citation:\n",
    "https://www.kaggle.com/docs/api"
   ]
  },
  {
   "cell_type": "code",
   "execution_count": 1,
   "id": "26b795b5-4183-496c-9f85-1f404d6198db",
   "metadata": {},
   "outputs": [],
   "source": [
    "import kaggle"
   ]
  },
  {
   "cell_type": "markdown",
   "id": "03084874-2691-47da-b302-ef9bd2190c40",
   "metadata": {},
   "source": [
    "# Setup Kaggle API connection citation:\n",
    "https://python.plainenglish.io/how-to-use-the-kaggle-api-in-python-4d4c812c39c7"
   ]
  },
  {
   "cell_type": "code",
   "execution_count": 2,
   "id": "d0cc5ac3-45eb-474a-9fe4-02c2d7481582",
   "metadata": {},
   "outputs": [],
   "source": [
    "from kaggle.api.kaggle_api_extended import KaggleApi\n",
    "api = KaggleApi()\n",
    "api.authenticate()"
   ]
  },
  {
   "cell_type": "code",
   "execution_count": 8,
   "id": "214a9463-39d9-4920-8919-212b8e2ae814",
   "metadata": {},
   "outputs": [],
   "source": [
    "api.dataset_download_files('thedevastator/global-fossil-co2-emissions-by-country-2002-2022', path=r'C:\\Users\\acarr\\Documents\\GitHub\\ads507_data_engineering\\data')\n"
   ]
  },
  {
   "cell_type": "code",
   "execution_count": 7,
   "id": "48fb8886-506f-494e-9553-67c83a988377",
   "metadata": {},
   "outputs": [],
   "source": [
    "import zipfile\n",
    "\n",
    "with zipfile.ZipFile('C:\\Users\\acarr\\Documents\\GitHub\\ads507_data_engineering\\data\\global-fossil-co2-emissions-by-country-2002-2022.zip', 'r') as zipref:\n",
    "    zipref.extractall(r'C:\\Users\\acarr\\Documents\\GitHub\\ads507_data_engineering\\data')"
   ]
  }
 ],
 "metadata": {
  "kernelspec": {
   "display_name": "Python 3",
   "language": "python",
   "name": "python3"
  },
  "language_info": {
   "codemirror_mode": {
    "name": "ipython",
    "version": 3
   },
   "file_extension": ".py",
   "mimetype": "text/x-python",
   "name": "python",
   "nbconvert_exporter": "python",
   "pygments_lexer": "ipython3",
   "version": "3.8.8"
  }
 },
 "nbformat": 4,
 "nbformat_minor": 5
}
