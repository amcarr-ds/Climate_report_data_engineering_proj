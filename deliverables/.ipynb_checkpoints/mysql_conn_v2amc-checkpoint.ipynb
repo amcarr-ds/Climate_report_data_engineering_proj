{
 "cells": [
  {
   "cell_type": "markdown",
   "id": "1368a2b1-c476-42e3-8997-982ca503b6aa",
   "metadata": {},
   "source": []
  },
  {
   "cell_type": "code",
   "execution_count": 1,
   "id": "7bfb476e-b850-4e35-9645-f89a5962cda8",
   "metadata": {},
   "outputs": [],
   "source": [
    "import numpy as np\n",
    "import pandas as pd\n",
    "import pymysql as mysql\n",
    "import matplotlib.pyplot as plt\n",
    "import os\n",
    "\n",
    "pd.options.display.max_rows = 17"
   ]
  },
  {
   "cell_type": "code",
   "execution_count": 2,
   "id": "26101d61-0861-43b8-9217-7a527f573d02",
   "metadata": {},
   "outputs": [],
   "source": [
    "# Set local environment variables to hide user name & password\n",
    "user_name = os.environ['MySQLUSRAC']\n",
    "user_pass = os.environ['MySQLPWDAC']\n",
    "\n",
    "# Instantiate connection\n",
    "db_conn = mysql.connect(host='localhost', port=int(3306), user=user_name, passwd=user_pass, db='507_final_proj')"
   ]
  },
  {
   "cell_type": "code",
   "execution_count": 3,
   "id": "b3354e6d-11ee-4cd3-ba65-48cd32fd1bcd",
   "metadata": {},
   "outputs": [
    {
     "data": {
      "text/html": [
       "<div>\n",
       "<style scoped>\n",
       "    .dataframe tbody tr th:only-of-type {\n",
       "        vertical-align: middle;\n",
       "    }\n",
       "\n",
       "    .dataframe tbody tr th {\n",
       "        vertical-align: top;\n",
       "    }\n",
       "\n",
       "    .dataframe thead th {\n",
       "        text-align: right;\n",
       "    }\n",
       "</style>\n",
       "<table border=\"1\" class=\"dataframe\">\n",
       "  <thead>\n",
       "    <tr style=\"text-align: right;\">\n",
       "      <th></th>\n",
       "      <th>Tables_in_507_final_proj</th>\n",
       "    </tr>\n",
       "  </thead>\n",
       "  <tbody>\n",
       "    <tr>\n",
       "      <th>0</th>\n",
       "      <td>country_map</td>\n",
       "    </tr>\n",
       "    <tr>\n",
       "      <th>1</th>\n",
       "      <td>emissions_gross</td>\n",
       "    </tr>\n",
       "    <tr>\n",
       "      <th>2</th>\n",
       "      <td>emissions_tempy</td>\n",
       "    </tr>\n",
       "    <tr>\n",
       "      <th>3</th>\n",
       "      <td>iso</td>\n",
       "    </tr>\n",
       "    <tr>\n",
       "      <th>4</th>\n",
       "      <td>iso_tempy</td>\n",
       "    </tr>\n",
       "    <tr>\n",
       "      <th>5</th>\n",
       "      <td>population</td>\n",
       "    </tr>\n",
       "    <tr>\n",
       "      <th>6</th>\n",
       "      <td>population_tempy</td>\n",
       "    </tr>\n",
       "    <tr>\n",
       "      <th>7</th>\n",
       "      <td>temperature</td>\n",
       "    </tr>\n",
       "    <tr>\n",
       "      <th>8</th>\n",
       "      <td>temperature_tempy</td>\n",
       "    </tr>\n",
       "  </tbody>\n",
       "</table>\n",
       "</div>"
      ],
      "text/plain": [
       "  Tables_in_507_final_proj\n",
       "0              country_map\n",
       "1          emissions_gross\n",
       "2          emissions_tempy\n",
       "3                      iso\n",
       "4                iso_tempy\n",
       "5               population\n",
       "6         population_tempy\n",
       "7              temperature\n",
       "8        temperature_tempy"
      ]
     },
     "metadata": {},
     "output_type": "display_data"
    },
    {
     "name": "stdout",
     "output_type": "stream",
     "text": [
      "<class 'pandas.core.frame.DataFrame'>\n"
     ]
    }
   ],
   "source": [
    "tbl_names = pd.read_sql('SHOW TABLES', db_conn)\n",
    "\n",
    "display(tbl_names)\n",
    "print(type(tbl_names))"
   ]
  },
  {
   "cell_type": "markdown",
   "id": "7ec2a2b0-9237-43cf-972e-9f1293f73ed1",
   "metadata": {},
   "source": [
    "## Update iso table"
   ]
  },
  {
   "cell_type": "markdown",
   "id": "22c7ab5e-c351-43c7-b103-880b8de48058",
   "metadata": {},
   "source": [
    "ist_tbl_slct_all_stmnt = \"\"\"SELECT * FROM iso_tempy\"\"\"\n",
    "ist_tbl_slct_all_rd = pd.read_sql(ist_tbl_slct_all_stmnt, db_conn)\n",
    "ist_tbl_slct_all_rd"
   ]
  },
  {
   "cell_type": "code",
   "execution_count": 4,
   "id": "49c64dbf-47f8-4e6f-a1bb-a68f802d615c",
   "metadata": {},
   "outputs": [
    {
     "data": {
      "text/plain": [
       "321"
      ]
     },
     "execution_count": 4,
     "metadata": {},
     "output_type": "execute_result"
    }
   ],
   "source": [
    "# Using cursor, loading into temp file citation: OpenAI. (2021). ChatGPT [Computer software]. https://openai.com/\n",
    "# OPEN\n",
    "# Create a cursor object\n",
    "cursor = db_conn.cursor()\n",
    "\n",
    "# Wipe temp table\n",
    "ist_dlt_tble_stmnt = \"\"\"DELETE FROM iso_tempy\"\"\"\n",
    "cursor.execute(ist_dlt_tble_stmnt)\n",
    "\n",
    "# Load data from CSV file into a temporary table\n",
    "ist_csv_load_stmnt = \"\"\"\n",
    "LOAD DATA INFILE 'C:/ProgramData/MySQL/MySQL Server 8.0/Uploads/FAOSTAT_data_11-24-2020.csv'\n",
    "INTO TABLE iso_tempy\n",
    "FIELDS TERMINATED BY ','\n",
    "OPTIONALLY ENCLOSED BY '\"'\n",
    "LINES TERMINATED BY '\\r\\n'\n",
    "IGNORE 1 ROWS\n",
    "(\n",
    "country_code,\n",
    "country,\n",
    "m49_code,\n",
    "iso2,\n",
    "iso3,\n",
    "year_start,\n",
    "year_end\n",
    ")\n",
    "\"\"\"\n",
    "cursor.execute(ist_csv_load_stmnt)\n",
    "\n",
    "# Insert new records into main table\n",
    "egm_load_stmtn = \"\"\"\n",
    "INSERT INTO iso\n",
    "(\n",
    "country_code,\n",
    "country,\n",
    "m49_code,\n",
    "iso2,\n",
    "iso3,\n",
    "year_start,\n",
    "year_end\n",
    ")\n",
    "SELECT\n",
    "tp.country_code,\n",
    "tp.country,\n",
    "tp.m49_code,\n",
    "tp.iso2,\n",
    "tp.iso3,\n",
    "tp.year_start,\n",
    "tp.year_end\n",
    "FROM iso_tempy AS tp\n",
    "LEFT JOIN iso AS mn\n",
    "ON tp.iso3 = mn.iso3\n",
    "WHERE mn.iso3 IS NULL\n",
    "\"\"\"\n",
    "cursor.execute(egm_load_stmtn)\n",
    "\n",
    "cursor.execute(ist_dlt_tble_stmnt)"
   ]
  },
  {
   "cell_type": "markdown",
   "id": "70523ff8-e522-4177-a047-9240c244e2a8",
   "metadata": {},
   "source": [
    "ist_slct_all_stmnt = \"\"\"SELECT * FROM iso_tempy\"\"\"\n",
    "ist_slct_all_rd = pd.read_sql(ist_slct_all_stmnt, db_conn)\n",
    "\n",
    "display(ist_slct_all_rd)"
   ]
  },
  {
   "cell_type": "markdown",
   "id": "ef353b6b-2eef-41a0-a906-806f386f6b7d",
   "metadata": {},
   "source": [
    "ism_slct_all_stmnt = \"\"\"SELECT * FROM iso\"\"\"\n",
    "ism_slct_all_rd = pd.read_sql(ism_slct_all_stmnt, db_conn)\n",
    "\n",
    "display(ism_slct_all_rd)"
   ]
  },
  {
   "cell_type": "markdown",
   "id": "a40b5661-4ad7-4dbf-962a-5d6e3c4082e8",
   "metadata": {},
   "source": [
    "ism_slct_iso3_null_stmnt = \"\"\"SELECT * FROM iso WHERE iso3 = '' LIMIT 100000\"\"\"\n",
    "ism_slct_iso3_null_rd = pd.read_sql(ism_slct_iso3_null_stmnt, db_conn)\n",
    "\n",
    "display(ism_slct_iso3_null_rd)"
   ]
  },
  {
   "cell_type": "markdown",
   "id": "8156db11-8ffe-4d52-b8ab-c38c2dd966b0",
   "metadata": {},
   "source": [
    "## Update emissions_gross table"
   ]
  },
  {
   "cell_type": "code",
   "execution_count": 5,
   "id": "52757399-6d90-4083-8525-ada59bfab5fa",
   "metadata": {},
   "outputs": [
    {
     "data": {
      "text/plain": [
       "63104"
      ]
     },
     "execution_count": 5,
     "metadata": {},
     "output_type": "execute_result"
    }
   ],
   "source": [
    "# Wipe temp table\n",
    "egt_dlt_tble_stmnt = \"\"\"DELETE FROM emissions_tempy\"\"\"\n",
    "cursor.execute(egt_dlt_tble_stmnt)\n",
    "\n",
    "# Load data from CSV file into a temporary table\n",
    "egt_csv_load_stmnt = \"\"\"\n",
    "LOAD DATA INFILE 'C:/ProgramData/MySQL/MySQL Server 8.0/Uploads/GCB2022v27_MtCO2_flat.csv'\n",
    "INTO TABLE emissions_tempy\n",
    "FIELDS TERMINATED BY ','\n",
    "OPTIONALLY ENCLOSED BY '\"'\n",
    "LINES TERMINATED BY '\\r\\n'\n",
    "IGNORE 1 ROWS\n",
    "(\n",
    "country,\n",
    "iso3,\n",
    "record_year,\n",
    "total,\n",
    "coal,\n",
    "oil,\n",
    "gas,\n",
    "cement,\n",
    "flaring,\n",
    "other,\n",
    "per_capita\n",
    ")\n",
    "\"\"\"\n",
    "cursor.execute(egt_csv_load_stmnt)\n",
    "\n",
    "# Insert new records into main table\n",
    "egm_load_stmtn = \"\"\"\n",
    "INSERT INTO emissions_gross\n",
    "(\n",
    "country,\n",
    "iso3,\n",
    "record_year,\n",
    "total,\n",
    "coal,\n",
    "oil,\n",
    "gas,\n",
    "cement,\n",
    "flaring,\n",
    "other,\n",
    "per_capita\n",
    ")\n",
    "SELECT\n",
    "tp.country,\n",
    "tp.iso3,\n",
    "tp.record_year,\n",
    "tp.total,\n",
    "tp.coal,\n",
    "tp.oil,\n",
    "tp.gas,\n",
    "tp.cement,\n",
    "tp.flaring,\n",
    "tp.other,\n",
    "tp.per_capita\n",
    "FROM emissions_tempy AS tp\n",
    "LEFT JOIN emissions_gross AS mn\n",
    "ON tp.iso3 = mn.iso3 AND tp.record_year = mn.record_year\n",
    "WHERE mn.iso3 IS NULL AND mn.record_year IS NULL\n",
    "\"\"\"\n",
    "cursor.execute(egm_load_stmtn)\n",
    "\n",
    "cursor.execute(egt_dlt_tble_stmnt)"
   ]
  },
  {
   "cell_type": "markdown",
   "id": "3bf2a728-5b86-4873-8d12-7117877a58ff",
   "metadata": {},
   "source": [
    "## Update population table"
   ]
  },
  {
   "cell_type": "code",
   "execution_count": 6,
   "id": "0f3ef443-8930-4882-beea-27d39985c3ab",
   "metadata": {},
   "outputs": [
    {
     "data": {
      "text/plain": [
       "234"
      ]
     },
     "execution_count": 6,
     "metadata": {},
     "output_type": "execute_result"
    }
   ],
   "source": [
    "# Wipe temp table\n",
    "ppt_dlt_tble_stmnt = \"\"\"DELETE FROM population_tempy\"\"\"\n",
    "cursor.execute(ppt_dlt_tble_stmnt)\n",
    "\n",
    "# Load data from CSV file into a temporary table\n",
    "ppt_csv_load_stmnt = \"\"\"\n",
    "LOAD DATA INFILE 'C:/ProgramData/MySQL/MySQL Server 8.0/Uploads/world_population.csv'\n",
    "INTO TABLE population_tempy\n",
    "FIELDS TERMINATED BY ','\n",
    "OPTIONALLY ENCLOSED BY '\"'\n",
    "LINES TERMINATED BY '\\r\\n'\n",
    "IGNORE 1 ROWS\n",
    "(\n",
    "pop_rank,\n",
    "iso3,\n",
    "country,\n",
    "capital,\n",
    "continent,\n",
    "pop_2022,\n",
    "pop_2020,\n",
    "pop_2015,\n",
    "pop_2010,\n",
    "pop_2000,\n",
    "pop_1990,\n",
    "pop_1980,\n",
    "pop_1970,\n",
    "area,\n",
    "density,\n",
    "grow_rate,\n",
    "pop_perc\n",
    ")\n",
    "\"\"\"\n",
    "cursor.execute(ppt_csv_load_stmnt)\n",
    "\n",
    "# Insert new records into main table\n",
    "ppm_load_stmtn = \"\"\"\n",
    "INSERT INTO population\n",
    "(\n",
    "pop_rank,\n",
    "iso3,\n",
    "country,\n",
    "capital,\n",
    "continent,\n",
    "pop_2022,\n",
    "pop_2020,\n",
    "pop_2015,\n",
    "pop_2010,\n",
    "pop_2000,\n",
    "pop_1990,\n",
    "pop_1980,\n",
    "pop_1970,\n",
    "area,\n",
    "density,\n",
    "grow_rate,\n",
    "pop_perc\n",
    ")\n",
    "SELECT\n",
    "tp.pop_rank,\n",
    "tp.iso3,\n",
    "tp.country,\n",
    "tp.capital,\n",
    "tp.continent,\n",
    "tp.pop_2022,\n",
    "tp.pop_2020,\n",
    "tp.pop_2015,\n",
    "tp.pop_2010,\n",
    "tp.pop_2000,\n",
    "tp.pop_1990,\n",
    "tp.pop_1980,\n",
    "tp.pop_1970,\n",
    "tp.area,\n",
    "tp.density,\n",
    "tp.grow_rate,\n",
    "tp.pop_perc\n",
    "FROM population_tempy AS tp\n",
    "LEFT JOIN population AS mn\n",
    "ON tp.iso3 = mn.iso3\n",
    "WHERE mn.iso3 IS NULL\n",
    "\"\"\"\n",
    "cursor.execute(ppm_load_stmtn)\n",
    "\n",
    "cursor.execute(ppt_dlt_tble_stmnt)"
   ]
  },
  {
   "cell_type": "code",
   "execution_count": 7,
   "id": "e998766c-08a5-4730-81ca-2b4d17d8c857",
   "metadata": {},
   "outputs": [],
   "source": [
    "# Commit the changes to the database\n",
    "db_conn.commit()\n",
    "\n",
    "# Close the cursor and database connection\n",
    "cursor.close()\n",
    "db_conn.close()"
   ]
  }
 ],
 "metadata": {
  "kernelspec": {
   "display_name": "Python 3 (ipykernel)",
   "language": "python",
   "name": "python3"
  },
  "language_info": {
   "codemirror_mode": {
    "name": "ipython",
    "version": 3
   },
   "file_extension": ".py",
   "mimetype": "text/x-python",
   "name": "python",
   "nbconvert_exporter": "python",
   "pygments_lexer": "ipython3",
   "version": "3.7.11"
  }
 },
 "nbformat": 4,
 "nbformat_minor": 5
}
