{
 "cells": [
  {
   "cell_type": "markdown",
   "id": "1368a2b1-c476-42e3-8997-982ca503b6aa",
   "metadata": {},
   "source": [
    "# ADS-507 Team 2 Final Project"
   ]
  },
  {
   "cell_type": "markdown",
   "id": "271b05de-bb45-439d-bc75-7061c16aaf16",
   "metadata": {},
   "source": [
    "## Load data in MySQL tables from CSV files"
   ]
  },
  {
   "cell_type": "code",
   "execution_count": 1,
   "id": "7bfb476e-b850-4e35-9645-f89a5962cda8",
   "metadata": {},
   "outputs": [],
   "source": [
    "import numpy as np\n",
    "import pandas as pd\n",
    "import pymysql as mysql\n",
    "import matplotlib.pyplot as plt\n",
    "import os\n",
    "import re\n",
    "\n",
    "pd.options.display.max_rows = 17"
   ]
  },
  {
   "cell_type": "code",
   "execution_count": 2,
   "id": "26101d61-0861-43b8-9217-7a527f573d02",
   "metadata": {},
   "outputs": [],
   "source": [
    "# Set local environment variables to hide user name & password\n",
    "user_name = os.environ['MySQLUSRAC']\n",
    "user_pass = os.environ['MySQLPWDAC']\n",
    "\n",
    "# Instantiate connection\n",
    "db_conn = mysql.connect(host='localhost',\n",
    "                        port=int(3306),\n",
    "                        user=user_name,\n",
    "                        passwd=user_pass,\n",
    "                        db='507_final_proj')"
   ]
  },
  {
   "cell_type": "code",
   "execution_count": 3,
   "id": "b3354e6d-11ee-4cd3-ba65-48cd32fd1bcd",
   "metadata": {},
   "outputs": [
    {
     "data": {
      "text/html": [
       "<div>\n",
       "<style scoped>\n",
       "    .dataframe tbody tr th:only-of-type {\n",
       "        vertical-align: middle;\n",
       "    }\n",
       "\n",
       "    .dataframe tbody tr th {\n",
       "        vertical-align: top;\n",
       "    }\n",
       "\n",
       "    .dataframe thead th {\n",
       "        text-align: right;\n",
       "    }\n",
       "</style>\n",
       "<table border=\"1\" class=\"dataframe\">\n",
       "  <thead>\n",
       "    <tr style=\"text-align: right;\">\n",
       "      <th></th>\n",
       "      <th>Tables_in_507_final_proj</th>\n",
       "    </tr>\n",
       "  </thead>\n",
       "  <tbody>\n",
       "    <tr>\n",
       "      <th>0</th>\n",
       "      <td>country_map</td>\n",
       "    </tr>\n",
       "    <tr>\n",
       "      <th>1</th>\n",
       "      <td>emissions_gross</td>\n",
       "    </tr>\n",
       "    <tr>\n",
       "      <th>2</th>\n",
       "      <td>emissions_tempy</td>\n",
       "    </tr>\n",
       "    <tr>\n",
       "      <th>3</th>\n",
       "      <td>iso</td>\n",
       "    </tr>\n",
       "    <tr>\n",
       "      <th>4</th>\n",
       "      <td>iso_tempy</td>\n",
       "    </tr>\n",
       "    <tr>\n",
       "      <th>5</th>\n",
       "      <td>population</td>\n",
       "    </tr>\n",
       "    <tr>\n",
       "      <th>6</th>\n",
       "      <td>population_tempy</td>\n",
       "    </tr>\n",
       "    <tr>\n",
       "      <th>7</th>\n",
       "      <td>population_trans</td>\n",
       "    </tr>\n",
       "    <tr>\n",
       "      <th>8</th>\n",
       "      <td>temp_core1</td>\n",
       "    </tr>\n",
       "    <tr>\n",
       "      <th>9</th>\n",
       "      <td>temperature</td>\n",
       "    </tr>\n",
       "    <tr>\n",
       "      <th>10</th>\n",
       "      <td>temperature_tempy</td>\n",
       "    </tr>\n",
       "  </tbody>\n",
       "</table>\n",
       "</div>"
      ],
      "text/plain": [
       "   Tables_in_507_final_proj\n",
       "0               country_map\n",
       "1           emissions_gross\n",
       "2           emissions_tempy\n",
       "3                       iso\n",
       "4                 iso_tempy\n",
       "5                population\n",
       "6          population_tempy\n",
       "7          population_trans\n",
       "8                temp_core1\n",
       "9               temperature\n",
       "10        temperature_tempy"
      ]
     },
     "metadata": {},
     "output_type": "display_data"
    },
    {
     "name": "stdout",
     "output_type": "stream",
     "text": [
      "<class 'pandas.core.frame.DataFrame'>\n"
     ]
    }
   ],
   "source": [
    "tbl_names = pd.read_sql('SHOW TABLES', db_conn)\n",
    "\n",
    "display(tbl_names)\n",
    "print(type(tbl_names))"
   ]
  },
  {
   "cell_type": "markdown",
   "id": "7ec2a2b0-9237-43cf-972e-9f1293f73ed1",
   "metadata": {},
   "source": [
    "### Update `iso` table from CSV"
   ]
  },
  {
   "cell_type": "code",
   "execution_count": 4,
   "id": "49c64dbf-47f8-4e6f-a1bb-a68f802d615c",
   "metadata": {},
   "outputs": [
    {
     "data": {
      "text/plain": [
       "321"
      ]
     },
     "execution_count": 4,
     "metadata": {},
     "output_type": "execute_result"
    }
   ],
   "source": [
    "'''Using cursor, loading into temp file citation:\n",
    "OpenAI. (2021). ChatGPT [Computer software]. https://openai.com/'''\n",
    "# Create a cursor object\n",
    "cursor = db_conn.cursor()\n",
    "\n",
    "# Wipe temp table\n",
    "ist_dlt_tble_stmnt = \"\"\"DELETE FROM iso_tempy\"\"\"\n",
    "cursor.execute(ist_dlt_tble_stmnt)\n",
    "\n",
    "# Load data from CSV file into a temporary table\n",
    "ist_csv_load_stmnt = \"\"\"\n",
    "LOAD DATA INFILE 'C:/ProgramData/MySQL/MySQL Server 8.0/Uploads/FAOSTAT_data_11-24-2020.csv'\n",
    "    INTO TABLE iso_tempy\n",
    "FIELDS TERMINATED BY ','\n",
    "OPTIONALLY ENCLOSED BY '\"'\n",
    "LINES TERMINATED BY '\\r\\n'\n",
    "IGNORE 1 ROWS\n",
    "(\n",
    "country_code,\n",
    "country,\n",
    "m49_code,\n",
    "iso2,\n",
    "iso3,\n",
    "year_start,\n",
    "year_end\n",
    ")\n",
    "\"\"\"\n",
    "cursor.execute(ist_csv_load_stmnt)\n",
    "\n",
    "# Insert new records into main table\n",
    "ism_load_stmtn = \"\"\"\n",
    "INSERT INTO iso\n",
    "(\n",
    "country_code,\n",
    "country,\n",
    "m49_code,\n",
    "iso2,\n",
    "iso3,\n",
    "year_start,\n",
    "year_end\n",
    ")\n",
    "SELECT\n",
    "tp.country_code,\n",
    "tp.country,\n",
    "tp.m49_code,\n",
    "tp.iso2,\n",
    "tp.iso3,\n",
    "tp.year_start,\n",
    "tp.year_end\n",
    "FROM iso_tempy AS tp\n",
    "LEFT JOIN iso AS mn\n",
    "ON tp.iso3 = mn.iso3\n",
    "WHERE mn.iso3 IS NULL\n",
    "\"\"\"\n",
    "cursor.execute(ism_load_stmtn)\n",
    "\n",
    "# Wipe temp table\n",
    "cursor.execute(ist_dlt_tble_stmnt)"
   ]
  },
  {
   "cell_type": "markdown",
   "id": "8156db11-8ffe-4d52-b8ab-c38c2dd966b0",
   "metadata": {},
   "source": [
    "### Update `emissions_gross` table from CSV"
   ]
  },
  {
   "cell_type": "code",
   "execution_count": 5,
   "id": "52757399-6d90-4083-8525-ada59bfab5fa",
   "metadata": {},
   "outputs": [
    {
     "data": {
      "text/plain": [
       "63104"
      ]
     },
     "execution_count": 5,
     "metadata": {},
     "output_type": "execute_result"
    }
   ],
   "source": [
    "# Wipe temp table\n",
    "egt_dlt_tble_stmnt = \"\"\"DELETE FROM emissions_tempy\"\"\"\n",
    "cursor.execute(egt_dlt_tble_stmnt)\n",
    "\n",
    "# Load data from CSV file into a temporary table\n",
    "egt_csv_load_stmnt = \"\"\"\n",
    "LOAD DATA INFILE 'C:/ProgramData/MySQL/MySQL Server 8.0/Uploads/GCB2022v27_MtCO2_flat.csv'\n",
    "    INTO TABLE emissions_tempy\n",
    "FIELDS TERMINATED BY ','\n",
    "OPTIONALLY ENCLOSED BY '\"'\n",
    "LINES TERMINATED BY '\\r\\n'\n",
    "IGNORE 1 ROWS\n",
    "(\n",
    "country,\n",
    "iso3,\n",
    "record_year,\n",
    "total,\n",
    "coal,\n",
    "oil,\n",
    "gas,\n",
    "cement,\n",
    "flaring,\n",
    "other,\n",
    "per_capita\n",
    ")\n",
    "\"\"\"\n",
    "cursor.execute(egt_csv_load_stmnt)\n",
    "\n",
    "# Insert new records into main table\n",
    "egm_load_stmtn = \"\"\"\n",
    "INSERT INTO emissions_gross\n",
    "(\n",
    "country,\n",
    "iso3,\n",
    "record_year,\n",
    "total,\n",
    "coal,\n",
    "oil,\n",
    "gas,\n",
    "cement,\n",
    "flaring,\n",
    "other,\n",
    "per_capita\n",
    ")\n",
    "SELECT\n",
    "tp.country,\n",
    "tp.iso3,\n",
    "tp.record_year,\n",
    "tp.total,\n",
    "tp.coal,\n",
    "tp.oil,\n",
    "tp.gas,\n",
    "tp.cement,\n",
    "tp.flaring,\n",
    "tp.other,\n",
    "tp.per_capita\n",
    "FROM emissions_tempy AS tp\n",
    "LEFT JOIN emissions_gross AS mn\n",
    "ON tp.iso3 = mn.iso3 AND tp.record_year = mn.record_year\n",
    "WHERE mn.iso3 IS NULL AND mn.record_year IS NULL\n",
    "\"\"\"\n",
    "cursor.execute(egm_load_stmtn)\n",
    "\n",
    "# Wipe temp table\n",
    "cursor.execute(egt_dlt_tble_stmnt)"
   ]
  },
  {
   "cell_type": "markdown",
   "id": "3bf2a728-5b86-4873-8d12-7117877a58ff",
   "metadata": {},
   "source": [
    "### Update `population` table from CSV"
   ]
  },
  {
   "cell_type": "code",
   "execution_count": 6,
   "id": "0f3ef443-8930-4882-beea-27d39985c3ab",
   "metadata": {},
   "outputs": [
    {
     "data": {
      "text/plain": [
       "234"
      ]
     },
     "execution_count": 6,
     "metadata": {},
     "output_type": "execute_result"
    }
   ],
   "source": [
    "# Wipe temp table\n",
    "ppt_dlt_tble_stmnt = \"\"\"DELETE FROM population_tempy\"\"\"\n",
    "cursor.execute(ppt_dlt_tble_stmnt)\n",
    "\n",
    "# Load data from CSV file into a temporary table\n",
    "ppt_csv_load_stmnt = \"\"\"\n",
    "LOAD DATA INFILE 'C:/ProgramData/MySQL/MySQL Server 8.0/Uploads/world_population.csv'\n",
    "    INTO TABLE population_tempy\n",
    "FIELDS TERMINATED BY ','\n",
    "OPTIONALLY ENCLOSED BY '\"'\n",
    "LINES TERMINATED BY '\\r\\n'\n",
    "IGNORE 1 ROWS\n",
    "(\n",
    "pop_rank,\n",
    "iso3,\n",
    "country,\n",
    "capital,\n",
    "continent,\n",
    "pop_2022,\n",
    "pop_2020,\n",
    "pop_2015,\n",
    "pop_2010,\n",
    "pop_2000,\n",
    "pop_1990,\n",
    "pop_1980,\n",
    "pop_1970,\n",
    "area,\n",
    "density,\n",
    "grow_rate,\n",
    "pop_perc\n",
    ")\n",
    "\"\"\"\n",
    "cursor.execute(ppt_csv_load_stmnt)\n",
    "\n",
    "# Insert new records into main table\n",
    "ppm_load_stmtn = \"\"\"\n",
    "INSERT INTO population\n",
    "(\n",
    "pop_rank,\n",
    "iso3,\n",
    "country,\n",
    "capital,\n",
    "continent,\n",
    "pop_2022,\n",
    "pop_2020,\n",
    "pop_2015,\n",
    "pop_2010,\n",
    "pop_2000,\n",
    "pop_1990,\n",
    "pop_1980,\n",
    "pop_1970,\n",
    "area,\n",
    "density,\n",
    "grow_rate,\n",
    "pop_perc\n",
    ")\n",
    "SELECT\n",
    "tp.pop_rank,\n",
    "tp.iso3,\n",
    "tp.country,\n",
    "tp.capital,\n",
    "tp.continent,\n",
    "tp.pop_2022,\n",
    "tp.pop_2020,\n",
    "tp.pop_2015,\n",
    "tp.pop_2010,\n",
    "tp.pop_2000,\n",
    "tp.pop_1990,\n",
    "tp.pop_1980,\n",
    "tp.pop_1970,\n",
    "tp.area,\n",
    "tp.density,\n",
    "tp.grow_rate,\n",
    "tp.pop_perc\n",
    "FROM population_tempy AS tp\n",
    "LEFT JOIN population AS mn\n",
    "ON tp.iso3 = mn.iso3\n",
    "WHERE mn.iso3 IS NULL\n",
    "\"\"\"\n",
    "cursor.execute(ppm_load_stmtn)\n",
    "\n",
    "# Wipe temp table\n",
    "cursor.execute(ppt_dlt_tble_stmnt)"
   ]
  },
  {
   "cell_type": "markdown",
   "id": "78053b23-69a1-4dd8-9f25-a11dbbd906d7",
   "metadata": {},
   "source": [
    "#### Transform `population` table: Melt year cols to rows"
   ]
  },
  {
   "cell_type": "code",
   "execution_count": 7,
   "id": "0a655a2e-ff06-435f-9d2e-460be9ad2455",
   "metadata": {},
   "outputs": [],
   "source": [
    "'''Convert table to pandas df, melt pop numbers form cols to rows citation:\n",
    "OpenAI. (2021). ChatGPT [Computer software]. https://openai.com/'''\n",
    "ppm_slct_all_stmnt = \"\"\"SELECT * FROM population\"\"\"\n",
    "ppm_slct_all_df = pd.read_sql(ppm_slct_all_stmnt, db_conn)\n",
    "\n",
    "# Melt the subset of columns\n",
    "cols_to_melt = ['pop_2022',\n",
    "                'pop_2020',\n",
    "                'pop_2015',\n",
    "                'pop_2010',\n",
    "                'pop_2000',\n",
    "                'pop_1990',\n",
    "                'pop_1980',\n",
    "                'pop_1970']\n",
    "var_names = [re.sub(r'^pop_', '', col) for col in cols_to_melt]\n",
    "ppm_slct_all_df_melted = pd.melt(ppm_slct_all_df, id_vars=['pop_rank',\n",
    "                                                           'iso3',\n",
    "                                                           'country',\n",
    "                                                           'capital',\n",
    "                                                           'continent',\n",
    "                                                           'area',\n",
    "                                                           'density',\n",
    "                                                           'grow_rate',\n",
    "                                                           'pop_perc'],\n",
    "                                 value_vars=cols_to_melt,\n",
    "                                 var_name='year',\n",
    "                                 value_name='population')\n",
    "#print(ppm_slct_all_df_melted.head())\n",
    "\n",
    "# Insert the melted data into the MySQL table\n",
    "insert_query = \"\"\"\n",
    "INSERT INTO population_trans (pop_rank, iso3, country, capital, continent, area, density, grow_rate, pop_perc, year, population)\n",
    "SELECT %s, %s, %s, %s, %s, %s, %s, %s, %s, %s, %s FROM DUAL WHERE NOT EXISTS (SELECT * FROM population_trans WHERE country = %s AND year = %s)\n",
    "\"\"\"\n",
    "for index, row in ppm_slct_all_df_melted.iterrows():\n",
    "    variable = var_names[cols_to_melt.index(row['year'])]  # get variable name based on column name\n",
    "    #print(index)\n",
    "    #print(row)\n",
    "    #print(variable)\n",
    "    values = (row['pop_rank'],\n",
    "              row['iso3'],\n",
    "              row['country'],\n",
    "              row['capital'],\n",
    "              row['continent'],\n",
    "              row['area'],\n",
    "              row['density'],\n",
    "              row['grow_rate'],\n",
    "              row['pop_perc'],\n",
    "              variable,\n",
    "              row['population'],\n",
    "              row['country'],\n",
    "              variable)\n",
    "    #print(values)\n",
    "    cursor.execute(insert_query, values)"
   ]
  },
  {
   "cell_type": "markdown",
   "id": "5326b27d-b6aa-4812-9fde-fa0c61924b6d",
   "metadata": {},
   "source": [
    "### Update `temperature` table from CSV"
   ]
  },
  {
   "cell_type": "code",
   "execution_count": 8,
   "id": "0ab5cddf-7ead-4693-af95-e57434513278",
   "metadata": {},
   "outputs": [
    {
     "data": {
      "text/plain": [
       "229925"
      ]
     },
     "execution_count": 8,
     "metadata": {},
     "output_type": "execute_result"
    }
   ],
   "source": [
    "# Wipe temp table\n",
    "tpt_dlt_tble_stmnt = \"\"\"DELETE FROM temperature_tempy\"\"\"\n",
    "cursor.execute(tpt_dlt_tble_stmnt)\n",
    "\n",
    "# Load data from CSV file into a temporary table\n",
    "tpt_csv_load_stmnt = \"\"\"\n",
    "LOAD DATA INFILE 'C:/ProgramData/MySQL/MySQL Server 8.0/Uploads/test.csv'\n",
    "    INTO TABLE temperature_tempy\n",
    "FIELDS TERMINATED BY ','\n",
    "OPTIONALLY ENCLOSED BY '\"'\n",
    "LINES TERMINATED BY '\\r\\n'\n",
    "(\n",
    "domain_code,\n",
    "domain,\n",
    "area_code,\n",
    "country,\n",
    "element_code,\n",
    "element,\n",
    "month_code,\n",
    "month_name,\n",
    "year_code,\n",
    "record_year,\n",
    "unit,\n",
    "temp,\n",
    "flag,\n",
    "flag_desc\n",
    ")\n",
    "\"\"\"\n",
    "cursor.execute(tpt_csv_load_stmnt)\n",
    "\n",
    "# Insert new records into main table\n",
    "tpm_load_stmtn = \"\"\"\n",
    "INSERT INTO temperature\n",
    "(\n",
    "domain_code,\n",
    "domain,\n",
    "area_code,\n",
    "country,\n",
    "element_code,\n",
    "element,\n",
    "month_code,\n",
    "month_name,\n",
    "year_code,\n",
    "record_year,\n",
    "unit,\n",
    "temp,\n",
    "flag,\n",
    "flag_desc\n",
    ")\n",
    "SELECT\n",
    "tp.domain_code,\n",
    "tp.domain,\n",
    "tp.area_code,\n",
    "tp.country,\n",
    "tp.element_code,\n",
    "tp.element,\n",
    "tp.month_code,\n",
    "tp.month_name,\n",
    "tp.year_code,\n",
    "tp.record_year,\n",
    "tp.unit,\n",
    "tp.temp,\n",
    "tp.flag,\n",
    "tp.flag_desc\n",
    "FROM temperature_tempy AS tp\n",
    "LEFT JOIN temperature AS mn\n",
    "ON tp.country = mn.country AND tp.month_code = mn.month_code AND tp.year_code = mn.year_code\n",
    "WHERE mn.country IS NULL AND  mn.month_code IS NULL AND mn.year_code IS NULL\n",
    "\"\"\"\n",
    "cursor.execute(tpm_load_stmtn)\n",
    "\n",
    "# Wipe temp table\n",
    "cursor.execute(tpt_dlt_tble_stmnt)"
   ]
  },
  {
   "cell_type": "markdown",
   "id": "24478366-ca7a-414a-b965-f4c1317b2af4",
   "metadata": {},
   "source": [
    "## Update/standardize feature values in `emissions_gross`, `temperature`, and `population_trans` tables based on mapping to `iso`"
   ]
  },
  {
   "cell_type": "markdown",
   "id": "33c4a2d4-90ba-4c6e-b934-1330e550510d",
   "metadata": {},
   "source": [
    "### Update `emissions_gross` table"
   ]
  },
  {
   "cell_type": "code",
   "execution_count": 9,
   "id": "23dd029f-7647-4f04-9b80-0980fd37f5d4",
   "metadata": {},
   "outputs": [
    {
     "data": {
      "text/plain": [
       "60384"
      ]
     },
     "execution_count": 9,
     "metadata": {},
     "output_type": "execute_result"
    }
   ],
   "source": [
    "'''Update table col vals based on mapping to another table citation:\n",
    "OpenAI. (2021). ChatGPT [Computer software]. https://openai.com/'''\n",
    "egm_updt_country_stmnt = \"\"\"\n",
    "UPDATE emissions_gross AS t1\n",
    "INNER JOIN iso AS t2\n",
    "    ON t1.iso3 = t2.iso3\n",
    "SET t1.country = t2.country\n",
    "WHERE t1.country <> t2.country AND t1.iso3 <> ''\n",
    "\"\"\"\n",
    "cursor.execute(egm_updt_country_stmnt)\n",
    "\n",
    "egm_add_cc_stmnt = \"\"\"\n",
    "UPDATE emissions_gross AS t1\n",
    "INNER JOIN iso AS t2\n",
    "    ON t1.country = t2.country\n",
    "SET t1.country_code = t2.country_code\n",
    "\"\"\"\n",
    "cursor.execute(egm_add_cc_stmnt)"
   ]
  },
  {
   "cell_type": "markdown",
   "id": "a50d535b-b364-455c-a5fb-a938bcd52b8d",
   "metadata": {},
   "source": [
    "### Update `population_trans` table"
   ]
  },
  {
   "cell_type": "code",
   "execution_count": 10,
   "id": "f8afe8d6-bc6d-42f5-bd07-059a9f61f8e6",
   "metadata": {},
   "outputs": [
    {
     "data": {
      "text/plain": [
       "1864"
      ]
     },
     "execution_count": 10,
     "metadata": {},
     "output_type": "execute_result"
    }
   ],
   "source": [
    "ptm_updt_country_stmnt = \"\"\"\n",
    "UPDATE population_trans AS t1\n",
    "INNER JOIN iso AS t2\n",
    "    ON t1.iso3 = t2.iso3\n",
    "SET t1.country = t2.country\n",
    "WHERE t1.country <> t2.country AND t1.iso3 <> ''\n",
    "\"\"\"\n",
    "cursor.execute(ptm_updt_country_stmnt)\n",
    "\n",
    "ptm_add_cc_stmnt = \"\"\"\n",
    "UPDATE population_trans AS t1\n",
    "INNER JOIN iso AS t2\n",
    "    ON t1.country = t2.country\n",
    "SET t1.country_code = t2.country_code\n",
    "\"\"\"\n",
    "cursor.execute(ptm_add_cc_stmnt)"
   ]
  },
  {
   "cell_type": "markdown",
   "id": "e76d45e9-8888-48bd-b417-1b2b4328e8b2",
   "metadata": {},
   "source": [
    "### Update `temperature` table"
   ]
  },
  {
   "cell_type": "code",
   "execution_count": 11,
   "id": "875d7d07-7e9b-44aa-8e94-653934d7ba4b",
   "metadata": {},
   "outputs": [
    {
     "data": {
      "text/plain": [
       "229925"
      ]
     },
     "execution_count": 11,
     "metadata": {},
     "output_type": "execute_result"
    }
   ],
   "source": [
    "tpm_updt_country_stmnt = \"\"\"\n",
    "UPDATE temperature AS t1\n",
    "INNER JOIN country_map AS t2\n",
    "\tON t1.country = t2.country_error\n",
    "INNER JOIN iso AS t3\n",
    "\tON t2.country_code = t3.country_code\n",
    "SET t1.country = t3.country\n",
    "WHERE t1.country <> t3.country\n",
    "\"\"\"\n",
    "cursor.execute(tpm_updt_country_stmnt)\n",
    "\n",
    "tpm_add_cc_stmnt = \"\"\"\n",
    "UPDATE temperature AS t1\n",
    "INNER JOIN iso AS t2\n",
    "    ON t1.country = t2.country\n",
    "SET t1.country_code = t2.country_code\n",
    "\"\"\"\n",
    "cursor.execute(tpm_add_cc_stmnt)"
   ]
  },
  {
   "cell_type": "markdown",
   "id": "01380072-1b80-4744-ab9a-70f6bde905e2",
   "metadata": {},
   "source": [
    "## Commit changes and close cursor and connection instances"
   ]
  },
  {
   "cell_type": "code",
   "execution_count": 12,
   "id": "e998766c-08a5-4730-81ca-2b4d17d8c857",
   "metadata": {},
   "outputs": [],
   "source": [
    "# Commit the changes to the database\n",
    "db_conn.commit()\n",
    "\n",
    "# Close the cursor and database connection\n",
    "cursor.close()\n",
    "db_conn.close()"
   ]
  }
 ],
 "metadata": {
  "kernelspec": {
   "display_name": "Python 3 (ipykernel)",
   "language": "python",
   "name": "python3"
  },
  "language_info": {
   "codemirror_mode": {
    "name": "ipython",
    "version": 3
   },
   "file_extension": ".py",
   "mimetype": "text/x-python",
   "name": "python",
   "nbconvert_exporter": "python",
   "pygments_lexer": "ipython3",
   "version": "3.7.11"
  }
 },
 "nbformat": 4,
 "nbformat_minor": 5
}
